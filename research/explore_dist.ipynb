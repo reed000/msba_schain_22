{
 "cells": [
  {
   "cell_type": "code",
   "metadata": {
    "cell_id": "8c7301b162ac4ccc83d7eea8201942dd",
    "tags": [],
    "deepnote_to_be_reexecuted": false,
    "source_hash": "a55b7fd8",
    "execution_start": 1651717513682,
    "execution_millis": 3434,
    "deepnote_cell_type": "code",
    "deepnote_cell_height": 498.796875
   },
   "source": "!pip install statsmodels\n\nimport numpy as np\nimport matplotlib.pyplot as plt\nimport constants as cs\nimport seaborn as sns\nimport pandas as pd\nimport scipy.stats as st\nimport statsmodels.api as sm\nfrom scipy.stats import truncnorm",
   "outputs": [
    {
     "name": "stdout",
     "text": "Requirement already satisfied: statsmodels in /root/venv/lib/python3.7/site-packages (0.13.2)\nRequirement already satisfied: packaging>=21.3 in /shared-libs/python3.7/py/lib/python3.7/site-packages (from statsmodels) (21.3)\nRequirement already satisfied: numpy>=1.17 in /shared-libs/python3.7/py/lib/python3.7/site-packages (from statsmodels) (1.21.6)\nRequirement already satisfied: pandas>=0.25 in /shared-libs/python3.7/py/lib/python3.7/site-packages (from statsmodels) (1.2.5)\nRequirement already satisfied: patsy>=0.5.2 in /root/venv/lib/python3.7/site-packages (from statsmodels) (0.5.2)\nRequirement already satisfied: scipy>=1.3 in /shared-libs/python3.7/py/lib/python3.7/site-packages (from statsmodels) (1.7.3)\nRequirement already satisfied: pyparsing!=3.0.5,>=2.0.2 in /shared-libs/python3.7/py/lib/python3.7/site-packages (from packaging>=21.3->statsmodels) (3.0.8)\nRequirement already satisfied: python-dateutil>=2.7.3 in /shared-libs/python3.7/py-core/lib/python3.7/site-packages (from pandas>=0.25->statsmodels) (2.8.2)\nRequirement already satisfied: pytz>=2017.3 in /shared-libs/python3.7/py/lib/python3.7/site-packages (from pandas>=0.25->statsmodels) (2022.1)\nRequirement already satisfied: six in /shared-libs/python3.7/py-core/lib/python3.7/site-packages (from patsy>=0.5.2->statsmodels) (1.16.0)\n\u001b[33mWARNING: You are using pip version 20.1.1; however, version 22.0.4 is available.\nYou should consider upgrading via the '/root/venv/bin/python -m pip install --upgrade pip' command.\u001b[0m\n",
     "output_type": "stream"
    }
   ],
   "execution_count": null
  },
  {
   "cell_type": "code",
   "metadata": {
    "tags": [],
    "cell_id": "c54189be-850b-4caf-ae7f-0dfc91fd7185",
    "deepnote_to_be_reexecuted": true,
    "source_hash": "7eef0596",
    "execution_start": 1651543905964,
    "execution_millis": 746,
    "owner_user_id": "b171af2b-2b80-4f02-9ceb-a14d5a27538b",
    "deepnote_cell_type": "code",
    "deepnote_cell_height": 509,
    "deepnote_output_heights": [
     250
    ]
   },
   "source": "# import numpy\nimport numpy as np\nimport matplotlib.pyplot as plt\n  \n# Using weibull() method\ngfg = np.random.weibull(0.8, 5000)\n# gfg = np.random.exponential(0.8, 5000) + np.random.normal(0, 0.02)\n\nplt.hist(gfg, bins = 100, density = True)\nplt.show()",
   "execution_count": null,
   "outputs": [
    {
     "data": {
      "text/plain": "<Figure size 432x288 with 1 Axes>",
      "image/png": "[encoded data removed]"
     },
     "metadata": {
      "needs_background": "light",
      "image/png": {
       "width": 372,
       "height": 248
      }
     },
     "output_type": "display_data"
    }
   ]
  },
  {
   "cell_type": "code",
   "metadata": {
    "cell_id": "fd247ec2aaf84efeb2481577824e4a0b",
    "tags": [],
    "deepnote_to_be_reexecuted": true,
    "source_hash": "186b060c",
    "execution_start": 1651543908050,
    "execution_millis": 7,
    "deepnote_cell_type": "code",
    "deepnote_cell_height": 118.1875,
    "deepnote_output_heights": [
     21.1875
    ]
   },
   "source": "np.random.exponential(0.8) + np.random.normal(0, 0.01)",
   "execution_count": null,
   "outputs": [
    {
     "output_type": "execute_result",
     "execution_count": 4,
     "data": {
      "text/plain": "0.6727329914855188"
     },
     "metadata": {}
    }
   ]
  },
  {
   "cell_type": "code",
   "metadata": {
    "cell_id": "5f44f7cc3d7c4e9797e2fb52675a01cc",
    "tags": [],
    "deepnote_to_be_reexecuted": false,
    "source_hash": "1beb4f71",
    "execution_start": 1651658186335,
    "execution_millis": 12,
    "deepnote_cell_type": "code",
    "deepnote_cell_height": 441
   },
   "source": "def generateOrderTime(day, shift):\n    # weibull (lambda k)\n    lambda_value = cs.DISTRIBUTION['{}_{}'.format(day, shift)]['order_lambda'] #SUN_1\n    k_value = cs.DISTRIBUTION['{}_{}'.format(day, shift)]['order_k']\n\n    order_time = np.random.weibull(k_value)# * lambda_value\n    return(order_time)\n\ndef generateProductQuant(day, shift, product, mean, std):\n    mean_val = cs.DISTRIBUTION['{}_{}'.format(day, shift)]['{}_mean'.format(product)] #SUN_1 / P1_mean\n    std_val = cs.DISTRIBUTION['{}_{}'.format(day, shift)]['{}_std'.format(product)]\n\n    p_min = 0\n    p_max = cs.P_UPPER_LIM[product]\n    \n    prod_quant = get_truncated_normal(mean_val, std_val, p_min, p_max)\n\n    return (int(prod_quant))\n    \ndef get_truncated_normal(mean=0, sd=1, low=0, upp=10):\n    return truncnorm((low - mean) / sd, (upp - mean) / sd, loc=mean, scale=sd)",
   "execution_count": null,
   "outputs": []
  },
  {
   "cell_type": "code",
   "metadata": {
    "cell_id": "e1f598346c6c4e77b9895a3460692b5e",
    "tags": [],
    "deepnote_to_be_reexecuted": false,
    "source_hash": "22f6d235",
    "execution_start": 1651658260426,
    "execution_millis": 2,
    "deepnote_cell_type": "code",
    "deepnote_cell_height": 99
   },
   "source": "x=__get_truncated_normal__(2,1,0,10)\nround(x.rvs())",
   "execution_count": null,
   "outputs": []
  },
  {
   "cell_type": "code",
   "metadata": {
    "cell_id": "18749b42f74a47519ded535a42ced5e4",
    "tags": [],
    "deepnote_to_be_reexecuted": false,
    "source_hash": "97863883",
    "execution_start": 1651658515501,
    "execution_millis": 19,
    "deepnote_cell_type": "code",
    "deepnote_cell_height": 144.1875
   },
   "source": "round(x.rvs(5))",
   "execution_count": null,
   "outputs": [
    {
     "output_type": "error",
     "ename": "TypeError",
     "evalue": "type numpy.ndarray doesn't define __round__ method",
     "traceback": [
      "\u001b[0;31m---------------------------------------------------------------------------\u001b[0m",
      "\u001b[0;31mTypeError\u001b[0m                                 Traceback (most recent call last)",
      "\u001b[0;32m<ipython-input-204-fa6026bc7385>\u001b[0m in \u001b[0;36m<module>\u001b[0;34m\u001b[0m\n\u001b[0;32m----> 1\u001b[0;31m \u001b[0mround\u001b[0m\u001b[0;34m(\u001b[0m\u001b[0mx\u001b[0m\u001b[0;34m.\u001b[0m\u001b[0mrvs\u001b[0m\u001b[0;34m(\u001b[0m\u001b[0;36m5\u001b[0m\u001b[0;34m)\u001b[0m\u001b[0;34m)\u001b[0m\u001b[0;34m\u001b[0m\u001b[0;34m\u001b[0m\u001b[0m\n\u001b[0m",
      "\u001b[0;31mTypeError\u001b[0m: type numpy.ndarray doesn't define __round__ method"
     ]
    }
   ]
  },
  {
   "cell_type": "code",
   "metadata": {
    "cell_id": "49962062cea9416c982f63552698d82c",
    "tags": [],
    "deepnote_to_be_reexecuted": true,
    "source_hash": "84c37bd9",
    "execution_start": 1651541249875,
    "execution_millis": 1,
    "deepnote_cell_type": "code",
    "deepnote_cell_height": 118.1875,
    "deepnote_output_heights": [
     21.1875
    ]
   },
   "source": "round(h)",
   "execution_count": null,
   "outputs": [
    {
     "output_type": "execute_result",
     "execution_count": 70,
     "data": {
      "text/plain": "2"
     },
     "metadata": {}
    }
   ]
  },
  {
   "cell_type": "code",
   "metadata": {
    "cell_id": "ea6b7917ffee4cd7bfc4e606466b15a2",
    "tags": [],
    "deepnote_to_be_reexecuted": true,
    "source_hash": "4e680716",
    "execution_start": 1651549692794,
    "execution_millis": 372,
    "deepnote_cell_type": "code",
    "deepnote_cell_height": 617.984375,
    "deepnote_output_heights": [
     null,
     21.1875,
     250
    ]
   },
   "source": "from scipy.stats import weibull_min\nn = 1     # number of samples\nk = 0.806597743     # shape\nlam = 1/0.007676763   # scale\n\nx = weibull_min.rvs(k, loc=0, scale=lam, size=n)\nsns.distplot(x)",
   "execution_count": null,
   "outputs": [
    {
     "name": "stderr",
     "text": "/shared-libs/python3.7/py/lib/python3.7/site-packages/seaborn/distributions.py:2619: FutureWarning: `distplot` is a deprecated function and will be removed in a future version. Please adapt your code to use either `displot` (a figure-level function with similar flexibility) or `histplot` (an axes-level function for histograms).\n  warnings.warn(msg, FutureWarning)\n/shared-libs/python3.7/py/lib/python3.7/site-packages/seaborn/distributions.py:316: UserWarning: Dataset has 0 variance; skipping density estimate. Pass `warn_singular=False` to disable this warning.\n  warnings.warn(msg, UserWarning)\n",
     "output_type": "stream"
    },
    {
     "output_type": "execute_result",
     "execution_count": 35,
     "data": {
      "text/plain": "<AxesSubplot:ylabel='Density'>"
     },
     "metadata": {}
    },
    {
     "data": {
      "text/plain": "<Figure size 432x288 with 1 Axes>",
      "image/png": "[encoded data removed]"
     },
     "metadata": {
      "needs_background": "light",
      "image/png": {
       "width": 397,
       "height": 248
      }
     },
     "output_type": "display_data"
    }
   ]
  },
  {
   "cell_type": "code",
   "metadata": {
    "cell_id": "68130a21b5444d0faa86ff0f0b2b0399",
    "tags": [],
    "deepnote_to_be_reexecuted": true,
    "source_hash": "4d319197",
    "execution_start": 1651549693563,
    "execution_millis": 20,
    "deepnote_cell_type": "code",
    "deepnote_cell_height": 118.1875,
    "deepnote_output_heights": [
     21.1875
    ]
   },
   "source": "x[0]",
   "execution_count": null,
   "outputs": [
    {
     "output_type": "execute_result",
     "execution_count": 36,
     "data": {
      "text/plain": "293.26024679899285"
     },
     "metadata": {}
    }
   ]
  },
  {
   "cell_type": "code",
   "metadata": {
    "cell_id": "66c3bf11baa94b5abb78f8fd63cfdcc4",
    "tags": [],
    "deepnote_to_be_reexecuted": true,
    "source_hash": "8bc0637c",
    "execution_start": 1651544283299,
    "execution_millis": 628,
    "deepnote_cell_type": "code",
    "deepnote_cell_height": 487.984375,
    "deepnote_output_heights": [
     null,
     21.1875,
     250
    ]
   },
   "source": "order_time = np.random.weibull(k, 5000) * lam\nsns.distplot(order_time)",
   "execution_count": null,
   "outputs": [
    {
     "name": "stderr",
     "text": "/shared-libs/python3.7/py/lib/python3.7/site-packages/seaborn/distributions.py:2619: FutureWarning: `distplot` is a deprecated function and will be removed in a future version. Please adapt your code to use either `displot` (a figure-level function with similar flexibility) or `histplot` (an axes-level function for histograms).\n  warnings.warn(msg, FutureWarning)\n",
     "output_type": "stream"
    },
    {
     "output_type": "execute_result",
     "execution_count": 21,
     "data": {
      "text/plain": "<AxesSubplot:ylabel='Density'>"
     },
     "metadata": {}
    },
    {
     "data": {
      "text/plain": "<Figure size 432x288 with 1 Axes>",
      "image/png": "[encoded data removed]"
     },
     "metadata": {
      "needs_background": "light",
      "image/png": {
       "width": 398,
       "height": 248
      }
     },
     "output_type": "display_data"
    }
   ]
  },
  {
   "cell_type": "code",
   "metadata": {
    "cell_id": "3ad0318484324562be22268c3e5ab45b",
    "tags": [],
    "deepnote_to_be_reexecuted": true,
    "source_hash": "d1c42636",
    "execution_start": 1651540684262,
    "execution_millis": 6,
    "deepnote_cell_type": "code",
    "deepnote_cell_height": 262.1875,
    "deepnote_output_heights": [
     21.1875
    ]
   },
   "source": "day = 'MON'\nshift = 0\n# weibull (lambda k)\nlambda_value = cs.DISTRIBUTION['{}_{}'.format(day, shift)]['order_lambda'] #SUN_1\nk_value = cs.DISTRIBUTION['{}_{}'.format(day, shift)]['order_k']\n\norder_time = np.random.weibull(k_value) * lambda_value\norder_time\n",
   "execution_count": null,
   "outputs": [
    {
     "output_type": "execute_result",
     "execution_count": 49,
     "data": {
      "text/plain": "0.006226063100605689"
     },
     "metadata": {}
    }
   ]
  },
  {
   "cell_type": "code",
   "metadata": {
    "cell_id": "bbb8d93ac55b409ea59f6528ba2b7646",
    "tags": [],
    "deepnote_to_be_reexecuted": true,
    "source_hash": "b408d6b7",
    "execution_start": 1651640396059,
    "execution_millis": 10,
    "deepnote_cell_type": "code",
    "deepnote_cell_height": 81
   },
   "source": "ts = pd.read_csv('strategies/order_sample.csv')",
   "execution_count": null,
   "outputs": []
  },
  {
   "cell_type": "code",
   "metadata": {
    "cell_id": "68d905da3ef24c37aa13aeabe47f6037",
    "tags": [],
    "deepnote_to_be_reexecuted": true,
    "source_hash": "57a3f1b1",
    "execution_start": 1651584871704,
    "execution_millis": 23,
    "deepnote_cell_type": "code",
    "deepnote_cell_height": 600
   },
   "source": "ts",
   "execution_count": null,
   "outputs": [
    {
     "output_type": "execute_result",
     "execution_count": 6,
     "data": {
      "application/vnd.deepnote.dataframe.v3+json": {
       "column_count": 6,
       "row_count": 100,
       "columns": [
        {
         "name": "Unnamed: 0",
         "dtype": "int64",
         "stats": {
          "unique_count": 100,
          "nan_count": 0,
          "min": "0",
          "max": "99",
          "histogram": [
           {
            "bin_start": 0,
            "bin_end": 9.9,
            "count": 10
           },
           {
            "bin_start": 9.9,
            "bin_end": 19.8,
            "count": 10
           },
           {
            "bin_start": 19.8,
            "bin_end": 29.700000000000003,
            "count": 10
           },
           {
            "bin_start": 29.700000000000003,
            "bin_end": 39.6,
            "count": 10
           },
           {
            "bin_start": 39.6,
            "bin_end": 49.5,
            "count": 10
           },
           {
            "bin_start": 49.5,
            "bin_end": 59.400000000000006,
            "count": 10
           },
           {
            "bin_start": 59.400000000000006,
            "bin_end": 69.3,
            "count": 10
           },
           {
            "bin_start": 69.3,
            "bin_end": 79.2,
            "count": 10
           },
           {
            "bin_start": 79.2,
            "bin_end": 89.10000000000001,
            "count": 10
           },
           {
            "bin_start": 89.10000000000001,
            "bin_end": 99,
            "count": 10
           }
          ]
         }
        },
        {
         "name": "OrderTimeInSec",
         "dtype": "int64",
         "stats": {
          "unique_count": 100,
          "nan_count": 0,
          "min": "36",
          "max": "16944",
          "histogram": [
           {
            "bin_start": 36,
            "bin_end": 1726.8,
            "count": 30
           },
           {
            "bin_start": 1726.8,
            "bin_end": 3417.6,
            "count": 23
           },
           {
            "bin_start": 3417.6,
            "bin_end": 5108.4,
            "count": 10
           },
           {
            "bin_start": 5108.4,
            "bin_end": 6799.2,
            "count": 14
           },
           {
            "bin_start": 6799.2,
            "bin_end": 8490,
            "count": 9
           },
           {
            "bin_start": 8490,
            "bin_end": 10180.8,
            "count": 4
           },
           {
            "bin_start": 10180.8,
            "bin_end": 11871.6,
            "count": 3
           },
           {
            "bin_start": 11871.6,
            "bin_end": 13562.4,
            "count": 1
           },
           {
            "bin_start": 13562.4,
            "bin_end": 15253.199999999999,
            "count": 3
           },
           {
            "bin_start": 15253.199999999999,
            "bin_end": 16944,
            "count": 3
           }
          ]
         }
        },
        {
         "name": "QtyShirt",
         "dtype": "int64",
         "stats": {
          "unique_count": 7,
          "nan_count": 0,
          "min": "0",
          "max": "6",
          "histogram": [
           {
            "bin_start": 0,
            "bin_end": 0.6,
            "count": 31
           },
           {
            "bin_start": 0.6,
            "bin_end": 1.2,
            "count": 37
           },
           {
            "bin_start": 1.2,
            "bin_end": 1.7999999999999998,
            "count": 0
           },
           {
            "bin_start": 1.7999999999999998,
            "bin_end": 2.4,
            "count": 22
           },
           {
            "bin_start": 2.4,
            "bin_end": 3,
            "count": 0
           },
           {
            "bin_start": 3,
            "bin_end": 3.5999999999999996,
            "count": 4
           },
           {
            "bin_start": 3.5999999999999996,
            "bin_end": 4.2,
            "count": 4
           },
           {
            "bin_start": 4.2,
            "bin_end": 4.8,
            "count": 0
           },
           {
            "bin_start": 4.8,
            "bin_end": 5.3999999999999995,
            "count": 1
           },
           {
            "bin_start": 5.3999999999999995,
            "bin_end": 6,
            "count": 1
           }
          ]
         }
        },
        {
         "name": "QtyHoodie",
         "dtype": "int64",
         "stats": {
          "unique_count": 5,
          "nan_count": 0,
          "min": "0",
          "max": "4",
          "histogram": [
           {
            "bin_start": 0,
            "bin_end": 0.4,
            "count": 52
           },
           {
            "bin_start": 0.4,
            "bin_end": 0.8,
            "count": 0
           },
           {
            "bin_start": 0.8,
            "bin_end": 1.2000000000000002,
            "count": 37
           },
           {
            "bin_start": 1.2000000000000002,
            "bin_end": 1.6,
            "count": 0
           },
           {
            "bin_start": 1.6,
            "bin_end": 2,
            "count": 0
           },
           {
            "bin_start": 2,
            "bin_end": 2.4000000000000004,
            "count": 8
           },
           {
            "bin_start": 2.4000000000000004,
            "bin_end": 2.8000000000000003,
            "count": 0
           },
           {
            "bin_start": 2.8000000000000003,
            "bin_end": 3.2,
            "count": 2
           },
           {
            "bin_start": 3.2,
            "bin_end": 3.6,
            "count": 0
           },
           {
            "bin_start": 3.6,
            "bin_end": 4,
            "count": 1
           }
          ]
         }
        },
        {
         "name": "QtySweatpants",
         "dtype": "int64",
         "stats": {
          "unique_count": 4,
          "nan_count": 0,
          "min": "0",
          "max": "3",
          "histogram": [
           {
            "bin_start": 0,
            "bin_end": 0.3,
            "count": 54
           },
           {
            "bin_start": 0.3,
            "bin_end": 0.6,
            "count": 0
           },
           {
            "bin_start": 0.6,
            "bin_end": 0.8999999999999999,
            "count": 0
           },
           {
            "bin_start": 0.8999999999999999,
            "bin_end": 1.2,
            "count": 32
           },
           {
            "bin_start": 1.2,
            "bin_end": 1.5,
            "count": 0
           },
           {
            "bin_start": 1.5,
            "bin_end": 1.7999999999999998,
            "count": 0
           },
           {
            "bin_start": 1.7999999999999998,
            "bin_end": 2.1,
            "count": 13
           },
           {
            "bin_start": 2.1,
            "bin_end": 2.4,
            "count": 0
           },
           {
            "bin_start": 2.4,
            "bin_end": 2.6999999999999997,
            "count": 0
           },
           {
            "bin_start": 2.6999999999999997,
            "bin_end": 3,
            "count": 1
           }
          ]
         }
        },
        {
         "name": "QtySneakers",
         "dtype": "int64",
         "stats": {
          "unique_count": 3,
          "nan_count": 0,
          "min": "0",
          "max": "2",
          "histogram": [
           {
            "bin_start": 0,
            "bin_end": 0.2,
            "count": 78
           },
           {
            "bin_start": 0.2,
            "bin_end": 0.4,
            "count": 0
           },
           {
            "bin_start": 0.4,
            "bin_end": 0.6000000000000001,
            "count": 0
           },
           {
            "bin_start": 0.6000000000000001,
            "bin_end": 0.8,
            "count": 0
           },
           {
            "bin_start": 0.8,
            "bin_end": 1,
            "count": 0
           },
           {
            "bin_start": 1,
            "bin_end": 1.2000000000000002,
            "count": 19
           },
           {
            "bin_start": 1.2000000000000002,
            "bin_end": 1.4000000000000001,
            "count": 0
           },
           {
            "bin_start": 1.4000000000000001,
            "bin_end": 1.6,
            "count": 0
           },
           {
            "bin_start": 1.6,
            "bin_end": 1.8,
            "count": 0
           },
           {
            "bin_start": 1.8,
            "bin_end": 2,
            "count": 3
           }
          ]
         }
        },
        {
         "name": "_deepnote_index_column",
         "dtype": "int64"
        }
       ],
       "rows": [
        {
         "Unnamed: 0": 0,
         "OrderTimeInSec": 36,
         "QtyShirt": 2,
         "QtyHoodie": 1,
         "QtySweatpants": 1,
         "QtySneakers": 0,
         "_deepnote_index_column": 0
        },
        {
         "Unnamed: 0": 1,
         "OrderTimeInSec": 175,
         "QtyShirt": 1,
         "QtyHoodie": 1,
         "QtySweatpants": 1,
         "QtySneakers": 0,
         "_deepnote_index_column": 1
        },
        {
         "Unnamed: 0": 2,
         "OrderTimeInSec": 179,
         "QtyShirt": 2,
         "QtyHoodie": 1,
         "QtySweatpants": 0,
         "QtySneakers": 0,
         "_deepnote_index_column": 2
        },
        {
         "Unnamed: 0": 3,
         "OrderTimeInSec": 213,
         "QtyShirt": 1,
         "QtyHoodie": 0,
         "QtySweatpants": 0,
         "QtySneakers": 1,
         "_deepnote_index_column": 3
        },
        {
         "Unnamed: 0": 4,
         "OrderTimeInSec": 271,
         "QtyShirt": 0,
         "QtyHoodie": 0,
         "QtySweatpants": 1,
         "QtySneakers": 0,
         "_deepnote_index_column": 4
        },
        {
         "Unnamed: 0": 5,
         "OrderTimeInSec": 310,
         "QtyShirt": 1,
         "QtyHoodie": 0,
         "QtySweatpants": 0,
         "QtySneakers": 0,
         "_deepnote_index_column": 5
        },
        {
         "Unnamed: 0": 6,
         "OrderTimeInSec": 563,
         "QtyShirt": 1,
         "QtyHoodie": 0,
         "QtySweatpants": 0,
         "QtySneakers": 0,
         "_deepnote_index_column": 6
        },
        {
         "Unnamed: 0": 7,
         "OrderTimeInSec": 574,
         "QtyShirt": 1,
         "QtyHoodie": 0,
         "QtySweatpants": 0,
         "QtySneakers": 0,
         "_deepnote_index_column": 7
        },
        {
         "Unnamed: 0": 8,
         "OrderTimeInSec": 675,
         "QtyShirt": 2,
         "QtyHoodie": 0,
         "QtySweatpants": 2,
         "QtySneakers": 1,
         "_deepnote_index_column": 8
        },
        {
         "Unnamed: 0": 9,
         "OrderTimeInSec": 710,
         "QtyShirt": 1,
         "QtyHoodie": 1,
         "QtySweatpants": 0,
         "QtySneakers": 0,
         "_deepnote_index_column": 9
        }
       ]
      },
      "text/plain": "    Unnamed: 0  OrderTimeInSec  QtyShirt  QtyHoodie  QtySweatpants  \\\n0            0              36         2          1              1   \n1            1             175         1          1              1   \n2            2             179         2          1              0   \n3            3             213         1          0              0   \n4            4             271         0          0              1   \n..         ...             ...       ...        ...            ...   \n95          95           14583         1          0              1   \n96          96           14677         1          0              2   \n97          97           16246         2          1              1   \n98          98           16833         1          0              1   \n99          99           16944         0          2              0   \n\n    QtySneakers  \n0             0  \n1             0  \n2             0  \n3             1  \n4             0  \n..          ...  \n95            1  \n96            0  \n97            0  \n98            0  \n99            0  \n\n[100 rows x 6 columns]",
      "text/html": "<div>\n<style scoped>\n    .dataframe tbody tr th:only-of-type {\n        vertical-align: middle;\n    }\n\n    .dataframe tbody tr th {\n        vertical-align: top;\n    }\n\n    .dataframe thead th {\n        text-align: right;\n    }\n</style>\n<table border=\"1\" class=\"dataframe\">\n  <thead>\n    <tr style=\"text-align: right;\">\n      <th></th>\n      <th>Unnamed: 0</th>\n      <th>OrderTimeInSec</th>\n      <th>QtyShirt</th>\n      <th>QtyHoodie</th>\n      <th>QtySweatpants</th>\n      <th>QtySneakers</th>\n    </tr>\n  </thead>\n  <tbody>\n    <tr>\n      <th>0</th>\n      <td>0</td>\n      <td>36</td>\n      <td>2</td>\n      <td>1</td>\n      <td>1</td>\n      <td>0</td>\n    </tr>\n    <tr>\n      <th>1</th>\n      <td>1</td>\n      <td>175</td>\n      <td>1</td>\n      <td>1</td>\n      <td>1</td>\n      <td>0</td>\n    </tr>\n    <tr>\n      <th>2</th>\n      <td>2</td>\n      <td>179</td>\n      <td>2</td>\n      <td>1</td>\n      <td>0</td>\n      <td>0</td>\n    </tr>\n    <tr>\n      <th>3</th>\n      <td>3</td>\n      <td>213</td>\n      <td>1</td>\n      <td>0</td>\n      <td>0</td>\n      <td>1</td>\n    </tr>\n    <tr>\n      <th>4</th>\n      <td>4</td>\n      <td>271</td>\n      <td>0</td>\n      <td>0</td>\n      <td>1</td>\n      <td>0</td>\n    </tr>\n    <tr>\n      <th>...</th>\n      <td>...</td>\n      <td>...</td>\n      <td>...</td>\n      <td>...</td>\n      <td>...</td>\n      <td>...</td>\n    </tr>\n    <tr>\n      <th>95</th>\n      <td>95</td>\n      <td>14583</td>\n      <td>1</td>\n      <td>0</td>\n      <td>1</td>\n      <td>1</td>\n    </tr>\n    <tr>\n      <th>96</th>\n      <td>96</td>\n      <td>14677</td>\n      <td>1</td>\n      <td>0</td>\n      <td>2</td>\n      <td>0</td>\n    </tr>\n    <tr>\n      <th>97</th>\n      <td>97</td>\n      <td>16246</td>\n      <td>2</td>\n      <td>1</td>\n      <td>1</td>\n      <td>0</td>\n    </tr>\n    <tr>\n      <th>98</th>\n      <td>98</td>\n      <td>16833</td>\n      <td>1</td>\n      <td>0</td>\n      <td>1</td>\n      <td>0</td>\n    </tr>\n    <tr>\n      <th>99</th>\n      <td>99</td>\n      <td>16944</td>\n      <td>0</td>\n      <td>2</td>\n      <td>0</td>\n      <td>0</td>\n    </tr>\n  </tbody>\n</table>\n<p>100 rows × 6 columns</p>\n</div>"
     },
     "metadata": {}
    }
   ]
  },
  {
   "cell_type": "code",
   "metadata": {
    "cell_id": "c9e0d4f7398e439386e48fca5100fc0a",
    "tags": [],
    "deepnote_to_be_reexecuted": true,
    "source_hash": "8f5ea3a8",
    "execution_start": 1651640459284,
    "execution_millis": 1116,
    "deepnote_cell_type": "code",
    "deepnote_cell_height": 731.1875,
    "deepnote_output_heights": [
     null,
     21.1875,
     354
    ]
   },
   "source": "c,loc,scale = st.weibull_min.fit(ts.QtyShirt.to_list())\nprint(\"c for shirt orders: {:2.3f}\".format(c))\nprint(\"Scale for shirt orders: {:2.3f}\".format(scale))\n\ntest = pd.DataFrame(data={\n    'real':ts.QtyShirt.to_numpy(),\n    'fit':st.weibull_min.rvs(c, size=ts.QtyShirt.shape)*scale\n})\n\nsns.displot(test.melt(),x='value',hue='variable',kind='hist')",
   "execution_count": null,
   "outputs": [
    {
     "name": "stdout",
     "text": "c for shirt orders: 0.689\nScale for shirt orders: 1.741\n",
     "output_type": "stream"
    },
    {
     "output_type": "execute_result",
     "execution_count": 6,
     "data": {
      "text/plain": "<seaborn.axisgrid.FacetGrid at 0x7f72cb7fb6d0>"
     },
     "metadata": {}
    },
    {
     "data": {
      "text/plain": "<Figure size 415x360 with 1 Axes>",
      "image/png": "[encoded data removed]"
     },
     "metadata": {
      "needs_background": "light",
      "image/png": {
       "width": 413,
       "height": 352
      }
     },
     "output_type": "display_data"
    }
   ]
  },
  {
   "cell_type": "code",
   "metadata": {
    "cell_id": "9c564cff57754822b233be0527b4be79",
    "tags": [],
    "deepnote_to_be_reexecuted": true,
    "source_hash": "b623e53d",
    "deepnote_cell_type": "code",
    "deepnote_cell_height": 81
   },
   "source": "",
   "execution_count": null,
   "outputs": []
  },
  {
   "cell_type": "code",
   "metadata": {
    "cell_id": "d22bb803c7cf49518fca2bd6dd9a73e4",
    "tags": [],
    "deepnote_to_be_reexecuted": true,
    "source_hash": "6131bd0c",
    "execution_start": 1651585630350,
    "execution_millis": 1720,
    "deepnote_cell_type": "code",
    "deepnote_cell_height": 731.1875,
    "deepnote_output_heights": [
     null,
     21.1875,
     354
    ]
   },
   "source": "c,loc,scale = st.weibull_min.fit(ts.QtyHoodie.to_list())\nprint(\"c for shirt orders: {:2.3f}\".format(c))\nprint(\"Scale for shirt orders: {:2.3f}\".format(scale))\n\ntest = pd.DataFrame(data={\n    'real':ts.QtyShirt.to_numpy(),\n    'fit':st.weibull_min.rvs(c, size=ts.QtyHoodie.shape)*scale\n})\n\nsns.displot(test.melt(),x='value',hue='variable',kind='hist')",
   "execution_count": null,
   "outputs": [
    {
     "name": "stdout",
     "text": "c for shirt orders: 0.343\nScale for shirt orders: 1.072\n",
     "output_type": "stream"
    },
    {
     "output_type": "execute_result",
     "execution_count": 26,
     "data": {
      "text/plain": "<seaborn.axisgrid.FacetGrid at 0x7f276cc99fd0>"
     },
     "metadata": {}
    },
    {
     "data": {
      "text/plain": "<Figure size 415x360 with 1 Axes>",
      "image/png": "[encoded data removed]"
     },
     "metadata": {
      "needs_background": "light",
      "image/png": {
       "width": 413,
       "height": 352
      }
     },
     "output_type": "display_data"
    }
   ]
  },
  {
   "cell_type": "code",
   "metadata": {
    "cell_id": "ffed7db8648f456495903752b9564c77",
    "tags": [],
    "deepnote_to_be_reexecuted": true,
    "source_hash": "e7f1a336",
    "execution_start": 1651640428505,
    "execution_millis": 2538,
    "deepnote_cell_type": "code",
    "deepnote_cell_height": 731.1875,
    "deepnote_output_heights": [
     null,
     21.1875,
     354
    ]
   },
   "source": "a,loc,scale = st.gamma.fit(ts.QtyShirt.to_list())\nprint(\"a for shirt orders: {:2.3f}\".format(a))\nprint(\"Scale for shirt orders: {:2.3f}\".format(scale))\n\ntest = pd.DataFrame(data={\n    'real':ts.QtyShirt.to_numpy(),\n    'fit':st.gamma.rvs(a, size=ts.QtyShirt.shape)*scale\n})\n\nsns.displot(test.melt(),x='value',hue='variable',kind='hist')",
   "execution_count": null,
   "outputs": [
    {
     "name": "stdout",
     "text": "a for shirt orders: 0.730\nScale for shirt orders: 1.166\n",
     "output_type": "stream"
    },
    {
     "output_type": "execute_result",
     "execution_count": 5,
     "data": {
      "text/plain": "<seaborn.axisgrid.FacetGrid at 0x7f72cb7fbe10>"
     },
     "metadata": {}
    },
    {
     "data": {
      "text/plain": "<Figure size 415x360 with 1 Axes>",
      "image/png": "[encoded data removed]"
     },
     "metadata": {
      "needs_background": "light",
      "image/png": {
       "width": 413,
       "height": 352
      }
     },
     "output_type": "display_data"
    }
   ]
  },
  {
   "cell_type": "code",
   "metadata": {
    "cell_id": "c7a82706d7874d1f82626fa7dd80897c",
    "tags": [],
    "deepnote_to_be_reexecuted": true,
    "source_hash": "d93968f4",
    "execution_start": 1651640621138,
    "execution_millis": 18,
    "deepnote_cell_type": "code",
    "deepnote_cell_height": 306.1875
   },
   "source": "loc,scale = st.poisson.fit(ts.QtyShirt.to_list())\nprint(\"c for shirt orders: {:2.3f}\".format(c))\nprint(\"Scale for shirt orders: {:2.3f}\".format(scale))\n\ntest = pd.DataFrame(data={\n    'real':ts.QtyShirt.to_numpy(),\n    'fit':st.poisson.rvs(loc,scale,size=ts.QtyShirt.shape)\n})\n\nsns.displot(test.melt(),x='value',hue='variable',kind='hist')",
   "execution_count": null,
   "outputs": [
    {
     "output_type": "error",
     "ename": "AttributeError",
     "evalue": "'poisson_gen' object has no attribute 'fit'",
     "traceback": [
      "\u001b[0;31m---------------------------------------------------------------------------\u001b[0m",
      "\u001b[0;31mAttributeError\u001b[0m                            Traceback (most recent call last)",
      "\u001b[0;32m<ipython-input-10-de09bd2c0b7e>\u001b[0m in \u001b[0;36m<module>\u001b[0;34m\u001b[0m\n\u001b[0;32m----> 1\u001b[0;31m \u001b[0mloc\u001b[0m\u001b[0;34m,\u001b[0m\u001b[0mscale\u001b[0m \u001b[0;34m=\u001b[0m \u001b[0mst\u001b[0m\u001b[0;34m.\u001b[0m\u001b[0mpoisson\u001b[0m\u001b[0;34m.\u001b[0m\u001b[0mfit\u001b[0m\u001b[0;34m(\u001b[0m\u001b[0mts\u001b[0m\u001b[0;34m.\u001b[0m\u001b[0mQtyShirt\u001b[0m\u001b[0;34m.\u001b[0m\u001b[0mto_list\u001b[0m\u001b[0;34m(\u001b[0m\u001b[0;34m)\u001b[0m\u001b[0;34m)\u001b[0m\u001b[0;34m\u001b[0m\u001b[0;34m\u001b[0m\u001b[0m\n\u001b[0m\u001b[1;32m      2\u001b[0m \u001b[0mprint\u001b[0m\u001b[0;34m(\u001b[0m\u001b[0;34m\"c for shirt orders: {:2.3f}\"\u001b[0m\u001b[0;34m.\u001b[0m\u001b[0mformat\u001b[0m\u001b[0;34m(\u001b[0m\u001b[0mc\u001b[0m\u001b[0;34m)\u001b[0m\u001b[0;34m)\u001b[0m\u001b[0;34m\u001b[0m\u001b[0;34m\u001b[0m\u001b[0m\n\u001b[1;32m      3\u001b[0m \u001b[0mprint\u001b[0m\u001b[0;34m(\u001b[0m\u001b[0;34m\"Scale for shirt orders: {:2.3f}\"\u001b[0m\u001b[0;34m.\u001b[0m\u001b[0mformat\u001b[0m\u001b[0;34m(\u001b[0m\u001b[0mscale\u001b[0m\u001b[0;34m)\u001b[0m\u001b[0;34m)\u001b[0m\u001b[0;34m\u001b[0m\u001b[0;34m\u001b[0m\u001b[0m\n\u001b[1;32m      4\u001b[0m \u001b[0;34m\u001b[0m\u001b[0m\n\u001b[1;32m      5\u001b[0m test = pd.DataFrame(data={\n",
      "\u001b[0;31mAttributeError\u001b[0m: 'poisson_gen' object has no attribute 'fit'"
     ]
    }
   ]
  },
  {
   "cell_type": "code",
   "metadata": {
    "cell_id": "a05ac28c662a40f3865ea29710487985",
    "tags": [],
    "deepnote_to_be_reexecuted": true,
    "source_hash": "f05c12fd",
    "execution_start": 1651585587362,
    "execution_millis": 496,
    "deepnote_cell_type": "code",
    "deepnote_cell_height": 731.1875,
    "deepnote_output_heights": [
     null,
     21.1875,
     354
    ]
   },
   "source": "loc,scale = st.expon.fit(ts.QtyShirt.to_list())\nprint(\"c for shirt orders: {:2.3f}\".format(c))\nprint(\"Scale for shirt orders: {:2.3f}\".format(scale))\n\ntest = pd.DataFrame(data={\n    'real':ts.QtyShirt.to_numpy(),\n    'fit':st.expon.rvs(loc,scale,size=ts.QtyShirt.shape)\n})\n\nsns.displot(test.melt(),x='value',hue='variable',kind='hist')",
   "execution_count": null,
   "outputs": [
    {
     "name": "stdout",
     "text": "c for shirt orders: 0.689\nScale for shirt orders: 1.200\n",
     "output_type": "stream"
    },
    {
     "output_type": "execute_result",
     "execution_count": 23,
     "data": {
      "text/plain": "<seaborn.axisgrid.FacetGrid at 0x7f276cd0f050>"
     },
     "metadata": {}
    },
    {
     "data": {
      "text/plain": "<Figure size 415x360 with 1 Axes>",
      "image/png": "[encoded data removed]"
     },
     "metadata": {
      "needs_background": "light",
      "image/png": {
       "width": 413,
       "height": 352
      }
     },
     "output_type": "display_data"
    }
   ]
  },
  {
   "cell_type": "code",
   "metadata": {
    "cell_id": "0547b0a6f6fc46b6b641e69e044d0e27",
    "tags": [],
    "deepnote_to_be_reexecuted": true,
    "source_hash": "9eb59f49",
    "execution_start": 1651585412057,
    "execution_millis": 749,
    "deepnote_cell_type": "code",
    "deepnote_cell_height": 593.1875,
    "deepnote_output_heights": [
     21.1875,
     354
    ]
   },
   "source": "test = pd.DataFrame(data={\n    'real':ts.QtyShirt.to_numpy(),\n    'fit':st.geom.rvs(1/st.tmean(ts.QtyShirt.to_list()), size=ts.QtyShirt.shape)\n})\n\nsns.displot(test.melt(),x='value',hue='variable',kind='hist')",
   "execution_count": null,
   "outputs": [
    {
     "output_type": "execute_result",
     "execution_count": 20,
     "data": {
      "text/plain": "<seaborn.axisgrid.FacetGrid at 0x7f2770029ad0>"
     },
     "metadata": {}
    },
    {
     "data": {
      "text/plain": "<Figure size 415x360 with 1 Axes>",
      "image/png": "[encoded data removed]"
     },
     "metadata": {
      "needs_background": "light",
      "image/png": {
       "width": 413,
       "height": 352
      }
     },
     "output_type": "display_data"
    }
   ]
  },
  {
   "cell_type": "code",
   "metadata": {
    "cell_id": "b2a47ab4a76e49eeb9a46029e74804b7",
    "tags": [],
    "deepnote_to_be_reexecuted": true,
    "source_hash": "ff0184ee",
    "execution_start": 1651585401842,
    "execution_millis": 6,
    "deepnote_cell_type": "code",
    "deepnote_cell_height": 118.1875,
    "deepnote_output_heights": [
     21.1875
    ]
   },
   "source": "st.geom.rvs(1/2)",
   "execution_count": null,
   "outputs": [
    {
     "output_type": "execute_result",
     "execution_count": 18,
     "data": {
      "text/plain": "1"
     },
     "metadata": {}
    }
   ]
  },
  {
   "cell_type": "code",
   "metadata": {
    "cell_id": "a2c14119a1ae423887fb8f5d077e3fe3",
    "tags": [],
    "deepnote_to_be_reexecuted": true,
    "source_hash": "b623e53d",
    "deepnote_cell_type": "code",
    "deepnote_cell_height": 81
   },
   "source": "",
   "execution_count": null,
   "outputs": []
  },
  {
   "cell_type": "markdown",
   "source": "## Gamma Dist",
   "metadata": {
    "cell_id": "36421b193fe74182bea5a173f93c079a",
    "tags": [],
    "is_collapsed": false,
    "deepnote_cell_type": "text-cell-h2"
   }
  },
  {
   "cell_type": "code",
   "metadata": {
    "cell_id": "60b55ec844a844d4a02ae0e05196dda5",
    "tags": [],
    "deepnote_to_be_reexecuted": true,
    "source_hash": "24fcc92f",
    "execution_start": 1651613609396,
    "execution_millis": 352,
    "deepnote_cell_type": "code",
    "deepnote_cell_height": 487.984375,
    "deepnote_output_heights": [
     null,
     21.1875,
     250
    ]
   },
   "source": "G1 = np.random.gamma(1.5, scale=1.1, size=5000)\nsns.distplot(G1)",
   "execution_count": null,
   "outputs": [
    {
     "name": "stderr",
     "text": "/shared-libs/python3.7/py/lib/python3.7/site-packages/seaborn/distributions.py:2619: FutureWarning: `distplot` is a deprecated function and will be removed in a future version. Please adapt your code to use either `displot` (a figure-level function with similar flexibility) or `histplot` (an axes-level function for histograms).\n  warnings.warn(msg, FutureWarning)\n",
     "output_type": "stream"
    },
    {
     "output_type": "execute_result",
     "execution_count": 14,
     "data": {
      "text/plain": "<AxesSubplot:ylabel='Density'>"
     },
     "metadata": {}
    },
    {
     "data": {
      "text/plain": "<Figure size 432x288 with 1 Axes>",
      "image/png": "[encoded data removed]"
     },
     "metadata": {
      "needs_background": "light",
      "image/png": {
       "width": 392,
       "height": 248
      }
     },
     "output_type": "display_data"
    }
   ]
  },
  {
   "cell_type": "code",
   "metadata": {
    "cell_id": "fc55c6a98b5f488e8bf6b907c2c433fb",
    "tags": [],
    "deepnote_to_be_reexecuted": true,
    "source_hash": "cd39a625",
    "execution_start": 1651613642422,
    "execution_millis": 2,
    "deepnote_cell_type": "code",
    "deepnote_cell_height": 118.1875,
    "deepnote_output_heights": [
     21.1875
    ]
   },
   "source": "np.random.gamma(1.5, scale=1.1, size=1)[0]",
   "execution_count": null,
   "outputs": [
    {
     "output_type": "execute_result",
     "execution_count": 17,
     "data": {
      "text/plain": "0.38590617378101366"
     },
     "metadata": {}
    }
   ]
  },
  {
   "cell_type": "code",
   "metadata": {
    "cell_id": "ef8a90b078c649009c8633211a9e0c47",
    "tags": [],
    "deepnote_to_be_reexecuted": true,
    "source_hash": "821d6885",
    "execution_start": 1651613662059,
    "execution_millis": 10,
    "deepnote_cell_type": "code",
    "deepnote_cell_height": 118.1875,
    "deepnote_output_heights": [
     21.1875
    ]
   },
   "source": "round(np.random.gamma(1.5, scale=1.1, size=1)[0])",
   "execution_count": null,
   "outputs": [
    {
     "output_type": "execute_result",
     "execution_count": 20,
     "data": {
      "text/plain": "1"
     },
     "metadata": {}
    }
   ]
  },
  {
   "cell_type": "code",
   "metadata": {
    "cell_id": "645515e418e54f27a817865669b1cfba",
    "tags": [],
    "deepnote_to_be_reexecuted": true,
    "source_hash": "b623e53d",
    "deepnote_cell_type": "code",
    "deepnote_cell_height": 81
   },
   "source": "",
   "execution_count": null,
   "outputs": []
  },
  {
   "cell_type": "code",
   "metadata": {
    "cell_id": "aab8508bf20749fab0276a6c7646316c",
    "tags": [],
    "deepnote_to_be_reexecuted": true,
    "source_hash": "bcb3d5d1",
    "execution_start": 1651640596963,
    "execution_millis": 0,
    "deepnote_cell_type": "code",
    "deepnote_cell_height": 81
   },
   "source": "# Negative Binomial ",
   "execution_count": null,
   "outputs": []
  },
  {
   "cell_type": "code",
   "metadata": {
    "cell_id": "e71e1d6e7d924b75a942118bf7bf3749",
    "tags": [],
    "deepnote_to_be_reexecuted": true,
    "source_hash": "abe4e64a",
    "execution_start": 1651640742480,
    "execution_millis": 798,
    "deepnote_cell_type": "code",
    "deepnote_cell_height": 487.984375,
    "deepnote_output_heights": [
     null,
     21.1875,
     250
    ]
   },
   "source": "B2 = np.random.negative_binomial(2, 0.2, size=5000)\nsns.distplot(B2)",
   "execution_count": null,
   "outputs": [
    {
     "name": "stderr",
     "text": "/shared-libs/python3.7/py/lib/python3.7/site-packages/seaborn/distributions.py:2619: FutureWarning: `distplot` is a deprecated function and will be removed in a future version. Please adapt your code to use either `displot` (a figure-level function with similar flexibility) or `histplot` (an axes-level function for histograms).\n  warnings.warn(msg, FutureWarning)\n",
     "output_type": "stream"
    },
    {
     "output_type": "execute_result",
     "execution_count": 15,
     "data": {
      "text/plain": "<AxesSubplot:ylabel='Density'>"
     },
     "metadata": {}
    },
    {
     "data": {
      "text/plain": "<Figure size 432x288 with 1 Axes>",
      "image/png": "[encoded data removed]"
     },
     "metadata": {
      "needs_background": "light",
      "image/png": {
       "width": 392,
       "height": 248
      }
     },
     "output_type": "display_data"
    }
   ]
  },
  {
   "cell_type": "code",
   "metadata": {
    "cell_id": "ef25363481d44586a471eae7113c37e2",
    "tags": [],
    "deepnote_to_be_reexecuted": false,
    "source_hash": "b50d6864",
    "execution_start": 1651720262966,
    "execution_millis": 261,
    "deepnote_cell_type": "code",
    "deepnote_cell_height": 487.984375,
    "deepnote_output_heights": [
     null,
     21.1875,
     250
    ]
   },
   "source": "B3 = np.random.negative_binomial(9976.334088, 0.999888157, size=5000)\nsns.distplot(B3)",
   "outputs": [
    {
     "name": "stderr",
     "text": "/shared-libs/python3.7/py/lib/python3.7/site-packages/seaborn/distributions.py:2619: FutureWarning: `distplot` is a deprecated function and will be removed in a future version. Please adapt your code to use either `displot` (a figure-level function with similar flexibility) or `histplot` (an axes-level function for histograms).\n  warnings.warn(msg, FutureWarning)\n",
     "output_type": "stream"
    },
    {
     "output_type": "execute_result",
     "execution_count": 70,
     "data": {
      "text/plain": "<AxesSubplot:ylabel='Density'>"
     },
     "metadata": {}
    },
    {
     "data": {
      "text/plain": "<Figure size 432x288 with 1 Axes>",
      "image/png": "[encoded data removed]"
     },
     "metadata": {
      "needs_background": "light",
      "image/png": {
       "width": 386,
       "height": 248
      }
     },
     "output_type": "display_data"
    }
   ],
   "execution_count": null
  },
  {
   "cell_type": "code",
   "metadata": {
    "cell_id": "ead22ebb89574fa589a84eef55e47015",
    "tags": [],
    "deepnote_to_be_reexecuted": false,
    "source_hash": "ad745d7b",
    "execution_start": 1651723043329,
    "execution_millis": 283,
    "deepnote_cell_type": "code",
    "deepnote_cell_height": 487.984375,
    "deepnote_output_heights": [
     null,
     21.1875,
     250
    ]
   },
   "source": "B3 = np.random.weibull(0.806597743, size=5000) * 1/0.007676763\nsns.distplot(B3)",
   "outputs": [
    {
     "name": "stderr",
     "text": "/shared-libs/python3.7/py/lib/python3.7/site-packages/seaborn/distributions.py:2619: FutureWarning: `distplot` is a deprecated function and will be removed in a future version. Please adapt your code to use either `displot` (a figure-level function with similar flexibility) or `histplot` (an axes-level function for histograms).\n  warnings.warn(msg, FutureWarning)\n",
     "output_type": "stream"
    },
    {
     "output_type": "execute_result",
     "execution_count": 72,
     "data": {
      "text/plain": "<AxesSubplot:ylabel='Density'>"
     },
     "metadata": {}
    },
    {
     "data": {
      "text/plain": "<Figure size 432x288 with 1 Axes>",
      "image/png": "[encoded data removed]"
     },
     "metadata": {
      "needs_background": "light",
      "image/png": {
       "width": 398,
       "height": 248
      }
     },
     "output_type": "display_data"
    }
   ],
   "execution_count": null
  },
  {
   "cell_type": "code",
   "metadata": {
    "cell_id": "7f88266569b9480d806729056540c2b2",
    "tags": [],
    "deepnote_to_be_reexecuted": false,
    "source_hash": "d3a03efc",
    "execution_start": 1651720288208,
    "execution_millis": 4,
    "owner_user_id": "7f458574-e58a-4e9c-ae79-ee4f5b78c130",
    "deepnote_cell_type": "code",
    "deepnote_cell_height": 118.1875,
    "deepnote_output_heights": [
     21.1875
    ]
   },
   "source": "np.random.negative_binomial(9976.334088, 0.999888157, size=1)[0]",
   "outputs": [
    {
     "output_type": "execute_result",
     "execution_count": 71,
     "data": {
      "text/plain": "1"
     },
     "metadata": {}
    }
   ],
   "execution_count": null
  },
  {
   "cell_type": "markdown",
   "source": "# Poissssssoooooon",
   "metadata": {
    "cell_id": "494ac07a22d24c59a5f1ec2eed141dc7",
    "tags": [],
    "is_collapsed": false,
    "deepnote_cell_type": "text-cell-h1"
   }
  },
  {
   "cell_type": "code",
   "metadata": {
    "cell_id": "4982ca16a0e94d06bd3c1d7f0e3cde5a",
    "tags": [],
    "deepnote_to_be_reexecuted": false,
    "source_hash": "669f0e92",
    "execution_start": 1651657233366,
    "execution_millis": 339,
    "deepnote_cell_type": "code",
    "deepnote_cell_height": 487.984375,
    "deepnote_output_heights": [
     null,
     21.1875,
     250
    ]
   },
   "source": "p3 = np.random.poisson(1.5, size=5000)\nsns.distplot(p3)",
   "execution_count": null,
   "outputs": [
    {
     "name": "stderr",
     "text": "/shared-libs/python3.7/py/lib/python3.7/site-packages/seaborn/distributions.py:2619: FutureWarning: `distplot` is a deprecated function and will be removed in a future version. Please adapt your code to use either `displot` (a figure-level function with similar flexibility) or `histplot` (an axes-level function for histograms).\n  warnings.warn(msg, FutureWarning)\n",
     "output_type": "stream"
    },
    {
     "output_type": "execute_result",
     "execution_count": 52,
     "data": {
      "text/plain": "<AxesSubplot:ylabel='Density'>"
     },
     "metadata": {}
    },
    {
     "data": {
      "text/plain": "<Figure size 432x288 with 1 Axes>",
      "image/png": "[encoded data removed]"
     },
     "metadata": {
      "needs_background": "light",
      "image/png": {
       "width": 392,
       "height": 248
      }
     },
     "output_type": "display_data"
    }
   ]
  },
  {
   "cell_type": "code",
   "metadata": {
    "cell_id": "8649a57723ae41fbba9f425a5411e14d",
    "tags": [],
    "deepnote_to_be_reexecuted": false,
    "source_hash": "10183948",
    "execution_start": 1651713990612,
    "execution_millis": 277,
    "deepnote_cell_type": "code",
    "deepnote_cell_height": 471.1875,
    "deepnote_output_heights": [
     21.1875,
     250
    ]
   },
   "source": "#Frid, shift 3, sneakers\n\nnb=np.random.negative_binomial(25,0.99,79800)\nsns.histplot(nb)\n",
   "outputs": [
    {
     "output_type": "execute_result",
     "execution_count": 4,
     "data": {
      "text/plain": "<AxesSubplot:ylabel='Count'>"
     },
     "metadata": {}
    },
    {
     "data": {
      "text/plain": "<Figure size 432x288 with 1 Axes>",
      "image/png": "[encoded data removed]"
     },
     "metadata": {
      "needs_background": "light",
      "image/png": {
       "width": 401,
       "height": 248
      }
     },
     "output_type": "display_data"
    }
   ],
   "execution_count": null
  },
  {
   "cell_type": "code",
   "metadata": {
    "cell_id": "d51301580ac54e56b21434ce26ff17da",
    "tags": [],
    "deepnote_to_be_reexecuted": false,
    "source_hash": "aa9d1c0d",
    "execution_start": 1651714091832,
    "execution_millis": 286,
    "deepnote_cell_type": "code",
    "deepnote_cell_height": 601,
    "deepnote_output_heights": [
     null,
     250
    ]
   },
   "source": "#friday shift 2 and 3 Sneaker\nnb=np.random.negative_binomial(25,0.99,175307)\nsns.histplot(nb)\n\n(unique, counts) = np.unique(nb, return_counts=True)\nfrequencies = np.asarray((unique, counts)).T\nprint(frequencies)",
   "outputs": [
    {
     "name": "stdout",
     "text": "[[     0 136149]\n [     1  34291]\n [     2   4466]\n [     3    375]\n [     4     25]\n [     5      1]]\n",
     "output_type": "stream"
    },
    {
     "data": {
      "text/plain": "<Figure size 432x288 with 1 Axes>",
      "image/png": "[encoded data removed]"
     },
     "metadata": {
      "needs_background": "light",
      "image/png": {
       "width": 407,
       "height": 248
      }
     },
     "output_type": "display_data"
    }
   ],
   "execution_count": null
  },
  {
   "cell_type": "code",
   "metadata": {
    "cell_id": "a798ea32062149f2aa4025cef97dac8a",
    "tags": [],
    "deepnote_to_be_reexecuted": false,
    "source_hash": "e21e7d87",
    "execution_start": 1651715622224,
    "execution_millis": 323,
    "deepnote_cell_type": "code",
    "deepnote_cell_height": 661,
    "deepnote_output_heights": [
     null,
     250
    ]
   },
   "source": "#friday shift 2/3\nnb=np.random.negative_binomial(10259.697881754231,0.9998910858158336,79800)\nsns.histplot(nb)\n\n(unique, counts) = np.unique(nb, return_counts=True)\nfrequencies = np.asarray((unique, counts)).T\nprint(frequencies)",
   "outputs": [
    {
     "name": "stdout",
     "text": "[[    0 26175]\n [    1 29160]\n [    2 16320]\n [    3  6012]\n [    4  1660]\n [    5   386]\n [    6    77]\n [    7     8]\n [    8     2]]\n",
     "output_type": "stream"
    },
    {
     "data": {
      "text/plain": "<Figure size 432x288 with 1 Axes>",
      "image/png": "[encoded data removed]"
     },
     "metadata": {
      "needs_background": "light",
      "image/png": {
       "width": 401,
       "height": 248
      }
     },
     "output_type": "display_data"
    }
   ],
   "execution_count": null
  },
  {
   "cell_type": "code",
   "metadata": {
    "cell_id": "73c3341abfc04829809c80794b898c75",
    "tags": [],
    "owner_user_id": "32743db3-53ad-4e53-9309-3d2256e60386",
    "deepnote_to_be_reexecuted": false,
    "source_hash": "d12f1927",
    "execution_start": 1651716374755,
    "execution_millis": 256,
    "deepnote_cell_type": "code",
    "deepnote_cell_height": 583,
    "deepnote_output_heights": [
     null,
     250
    ]
   },
   "source": "nb=np.random.negative_binomial(4726.612625988429,0.9998818064597723 ,6250)\nsns.histplot(nb)\n\n(unique, counts) = np.unique(nb, return_counts=True)\nfrequencies = np.asarray((unique, counts)).T\nprint(frequencies)",
   "outputs": [
    {
     "name": "stdout",
     "text": "[[   0 3556]\n [   1 2000]\n [   2  579]\n [   3  104]\n [   4   10]\n [   5    1]]\n",
     "output_type": "stream"
    },
    {
     "data": {
      "text/plain": "<Figure size 432x288 with 1 Axes>",
      "image/png": "[encoded data removed]"
     },
     "metadata": {
      "needs_background": "light",
      "image/png": {
       "width": 395,
       "height": 248
      }
     },
     "output_type": "display_data"
    }
   ],
   "execution_count": null
  },
  {
   "cell_type": "markdown",
   "source": "![Picture title](image-20220504-190558.png)",
   "metadata": {
    "cell_id": "e0cfce2e74204d1a96a5bb139adad104",
    "tags": [],
    "deepnote_cell_type": "markdown",
    "deepnote_cell_height": 95
   }
  },
  {
   "cell_type": "code",
   "metadata": {
    "cell_id": "46a0e2673e434f8aa49f41f1495a786f",
    "tags": [],
    "deepnote_to_be_reexecuted": false,
    "source_hash": "9cfc57e5",
    "execution_start": 1651657125632,
    "execution_millis": 1,
    "deepnote_cell_type": "code",
    "deepnote_cell_height": 261
   },
   "source": "#Actual example\n#0       59960\n#1       17419\n#2        2230\n#3         184\n#4          10\n#5           0\n#6           0\n#7           0\n#8           0\n",
   "execution_count": null,
   "outputs": []
  },
  {
   "cell_type": "code",
   "metadata": {
    "cell_id": "b9ffd1acacda42988a3fe1be4062e8be",
    "tags": [],
    "deepnote_to_be_reexecuted": false,
    "source_hash": "bd7ddeca",
    "execution_start": 1651675299429,
    "execution_millis": 15,
    "deepnote_cell_type": "code",
    "deepnote_cell_height": 304
   },
   "source": "nb=np.random.negative_binomial(50,0.99,79800)\n#sns.histplot(nb)\n(unique, counts) = np.unique(nb, return_counts=True)\nfrequencies = np.asarray((unique, counts)).T\nprint(frequencies)",
   "execution_count": null,
   "outputs": [
    {
     "name": "stdout",
     "text": "[[    0 48076]\n [    1 24265]\n [    2  6220]\n [    3  1075]\n [    4   142]\n [    5    19]\n [    6     3]]\n",
     "output_type": "stream"
    }
   ]
  },
  {
   "cell_type": "code",
   "metadata": {
    "cell_id": "0a775ff83b7c4904865f5877732e03d3",
    "tags": [],
    "deepnote_to_be_reexecuted": false,
    "source_hash": "b623e53d",
    "execution_start": 1651657645051,
    "execution_millis": 2,
    "deepnote_cell_type": "code",
    "deepnote_cell_height": 81
   },
   "source": "",
   "execution_count": null,
   "outputs": []
  },
  {
   "cell_type": "code",
   "metadata": {
    "cell_id": "9a1137607ef74f408b6c90f806bbcbed",
    "tags": [],
    "deepnote_to_be_reexecuted": false,
    "source_hash": "7d23122f",
    "execution_start": 1651657913421,
    "execution_millis": 38,
    "deepnote_cell_type": "code",
    "deepnote_cell_height": 364
   },
   "source": "nb=np.random.negative_binomial(22,0.95,79800)\n#sns.histplot(nb)\n(unique, counts) = np.unique(nb, return_counts=True)\nfrequencies = np.asarray((unique, counts)).T\nprint(frequencies)",
   "execution_count": null,
   "outputs": [
    {
     "name": "stdout",
     "text": "[[    0 25884]\n [    1 28552]\n [    2 16184]\n [    3  6441]\n [    4  2055]\n [    5   552]\n [    6   106]\n [    7    24]\n [    8     1]\n [   11     1]]\n",
     "output_type": "stream"
    }
   ]
  },
  {
   "cell_type": "code",
   "metadata": {
    "cell_id": "ea5a7ff9ef2044ad987d40640fe89aae",
    "tags": [],
    "deepnote_to_be_reexecuted": false,
    "source_hash": "d786b726",
    "execution_start": 1651658952576,
    "execution_millis": 7,
    "deepnote_cell_type": "code",
    "deepnote_cell_height": 99
   },
   "source": "x=__get_truncated_normal__(.6,.99,0,8)\nnb=np.around(x.rvs(79800),0)",
   "execution_count": null,
   "outputs": []
  },
  {
   "cell_type": "code",
   "metadata": {
    "cell_id": "62622193b0b447f6a27a40f2bf499798",
    "tags": [],
    "deepnote_to_be_reexecuted": false,
    "source_hash": "8709a1f0",
    "execution_start": 1651658953050,
    "execution_millis": 6,
    "deepnote_cell_type": "code",
    "deepnote_cell_height": 248
   },
   "source": "(unique, counts) = np.unique(nb, return_counts=True)\nfrequencies = np.asarray((unique, counts)).T\nprint(frequencies)",
   "execution_count": null,
   "outputs": [
    {
     "name": "stdout",
     "text": "[[    0. 20683.]\n [    1. 39148.]\n [    2. 16964.]\n [    3.  2818.]\n [    4.   182.]\n [    5.     5.]]\n",
     "output_type": "stream"
    }
   ]
  },
  {
   "cell_type": "code",
   "metadata": {
    "cell_id": "5f0ddd76cfe54a8898ec6b7885af0732",
    "tags": [],
    "deepnote_cell_type": "code",
    "deepnote_cell_height": 66
   },
   "source": "",
   "execution_count": null,
   "outputs": []
  },
  {
   "cell_type": "code",
   "metadata": {
    "cell_id": "10926bd0911446eeb01f54575278003e",
    "tags": [],
    "deepnote_to_be_reexecuted": false,
    "source_hash": "65d5eb48",
    "execution_start": 1651658831488,
    "execution_millis": 0,
    "deepnote_cell_type": "code",
    "deepnote_cell_height": 81
   },
   "source": "np.set_printoptions(suppress=True)",
   "execution_count": null,
   "outputs": []
  },
  {
   "cell_type": "code",
   "metadata": {
    "cell_id": "cab282a434214a58b79bffc52ce8727a",
    "tags": [],
    "deepnote_cell_type": "code",
    "deepnote_cell_height": 66
   },
   "source": "",
   "execution_count": null,
   "outputs": []
  },
  {
   "cell_type": "markdown",
   "source": "",
   "metadata": {
    "cell_id": "6d14cda1fdcd49fe9667bb90a8ec23c1",
    "tags": [],
    "deepnote_cell_type": "markdown",
    "deepnote_cell_height": 46
   }
  },
  {
   "cell_type": "markdown",
   "source": "# Random Discrete",
   "metadata": {
    "cell_id": "c6dff035b38b4887ad1c7c442b74aad8",
    "tags": [],
    "is_collapsed": false,
    "deepnote_cell_type": "text-cell-h1"
   }
  },
  {
   "cell_type": "code",
   "metadata": {
    "cell_id": "162b0f4c03e44405a7ece6a9e208c56e",
    "tags": [],
    "deepnote_to_be_reexecuted": false,
    "source_hash": "d7c9d3a6",
    "execution_start": 1651675495688,
    "execution_millis": 1,
    "deepnote_cell_type": "code",
    "deepnote_cell_height": 315
   },
   "source": "import math\nimport numpy as np\n\nvalues = range(1, 209)\nprobs = [1.0 / 208] * 208\n\nfor idx, prob in enumerate(probs):\n    if idx > 3 and idx < 20:\n        probs[idx] = probs[idx] * (1 + math.log(idx + 1))\n    if idx > 20 and idx < 40:\n        probs[idx] = probs[idx] * (1 + math.log((40 - idx) + 1))\n\nprobs = [p / sum(probs) for p in probs]\nsample =  np.random.choice(values, 1000, p=probs)",
   "execution_count": null,
   "outputs": []
  },
  {
   "cell_type": "code",
   "metadata": {
    "cell_id": "3e893462be3d45d58e27d0983058f42d",
    "tags": [],
    "deepnote_to_be_reexecuted": false,
    "source_hash": "ffd43449",
    "execution_start": 1651675367132,
    "execution_millis": 2,
    "deepnote_cell_type": "code",
    "deepnote_cell_height": 708,
    "deepnote_output_heights": [
     611
    ]
   },
   "source": "sample",
   "execution_count": null,
   "outputs": [
    {
     "output_type": "execute_result",
     "execution_count": 7,
     "data": {
      "text/plain": "array([ 29, 101, 158, 148,  10, 133,  89,  25, 117, 142,  88, 185, 126,\n        28, 160, 133, 175, 130, 156, 163,  97, 158, 113, 174, 147,  43,\n        39,  24,  33, 130,  86,  78, 199,  38,  50,  24,  43, 157,  97,\n         5, 165, 111, 153,  13,  52,  29, 199, 105,  23,   7,  86, 152,\n       133, 160, 173,  20,  16,   7, 109,  27, 182,  40,  73,  17,  64,\n        23, 174,  40, 120, 172,  17,  32, 110,  14,  78, 158,  23, 145,\n       166,  44,  83,  16, 159,  20,  17,  90,   5,   2,  68,  99,  73,\n        24,  13,  18,  23,  24,  31, 204, 201,  37,   8, 107, 204,  33,\n        59, 131,  34,  70,  99,  44,  86,  25,  27,  14,  14,  23,  45,\n        37,  86, 193,  37,  19,  87,  28, 194,   2,  36, 183,  32,  95,\n       179, 175,  11,   4, 154,  36, 110, 177, 129,  38,  99, 176, 101,\n        24,  10,  93,  18, 203,  32,  41,  15, 147,  25,  78,  30, 126,\n         8,  88, 123,   5,  22, 178, 124, 104,  67,  10,  29,  24,  25,\n        37, 146,  34,   9,  52, 128,  12,  19,  49, 199,  19, 140,  33,\n       123,   9,  78, 103,  90,  32,   2,  54, 114,  33,   3, 151,  32,\n        34, 196, 139, 113, 171, 136,  52,  12, 163,  51,  97, 114, 112,\n        36, 195,  60,  16,  28,  15,   9,  36,  68,  88, 153, 178,  20,\n        78,  15,  63, 207,  81,  73, 182,   6,  95, 158,   5,  16,  78,\n         7,  31, 127, 130,  47, 106,  14,  18,  16,  19,   9, 206,  64,\n       162, 169,  26, 134,  22,  24,  15,   8, 148,  25,  31, 111,  28,\n       167,  46,  35, 181, 147,   5,  18, 165,  38,  34,  28,  50,  44,\n       172, 201, 152,  52,  23,  24,  85,  14,   6, 199,  23,  26,   7,\n        19,  15,  64, 175, 175,  55,  19, 195,  90,  19,  18, 148, 117,\n        34,  40, 206, 205,  63,  18,  31,  25, 123,  57, 173, 149,  32,\n       124, 116, 132,  15,  85,  31, 112,  36, 152, 145,  29,  40, 180,\n        33,  29, 106,  83,  54,  57, 141,  30, 207,  36, 116,  30, 130,\n       160,  96, 141,  12, 208, 118, 114,  18, 158,  96, 127,  16, 201,\n        52, 101,  12, 139,   9, 175, 196,  25,  82,  35, 114,  77,  14,\n        84,  35, 162,   8,  19, 105, 107,  25,  29,  33,  13,  11, 118,\n       202, 126,  81,  30, 129,  98, 102,  36,  67,  57, 121,   9,  12,\n        64, 191, 114,  16,   3,  67,   7,   8,  19, 169, 167, 188, 173,\n        30,  17,  44, 107, 155,   7, 107,  11,  32,  87, 103,  28, 137,\n       101, 173,  20, 171, 189, 170,  60, 178,  55,  36, 136,  79,  82,\n        37,   7, 143, 208, 125,  22, 180,  39,  38, 166,   7,  58,  51,\n       175, 200, 110,  75,  28, 198,  13,  96,  60,  39,  39, 178, 123,\n       158, 204,  24,  26,  37,  53,  28,  11,  44,  16, 180,   7, 137,\n        54, 173, 102, 182, 190,  97,  40,   7,   4, 130, 177,  24,  50,\n        19,  59,  33,  46,  56,  25,  38,   6,   4,  31,  46, 140, 154,\n       116, 127, 144, 112,  20, 146, 147,  31, 188, 168, 156,  82,  13,\n        31, 175, 203,  31, 123,  40,  97, 108, 208,  30,  52, 154, 140,\n        82,  85,  80,  18,   4,  19,  26,  25,  39,  31, 156, 200,  19,\n       165,  26,   9,  74, 162,  12, 161,   5,  10, 104,  39,  25,  27,\n        16,  18,  60,  13,  38, 117,  92,  27, 188,  24, 144, 184, 155,\n        71, 130, 124, 180, 104,  10,   8,  17,  97, 123,  61,  72,  28,\n        32,  72,  16, 102,  55,  27,  26, 190,   9,  26, 106, 147,  19,\n       201, 112,  30, 206, 133, 136, 163, 193, 175,  15,  12,  10,  31,\n       162,  25,  28,  24,  20,  28,  31,  43,  62,   7,   3, 119,  44,\n       113,  12, 174,  77,  36, 206,  29, 100, 192, 102, 111, 125, 144,\n        35, 193,  70, 172,  39, 108,  34,  10,  17,  38,  81,   4, 115,\n        30, 184, 128,  70,  24, 205,  19,  27, 132,  67,  14,  19,  45,\n        73,  47,  31,  13,   6, 144,  20,  63, 145,  47,  35, 191,  32,\n        46,  33, 175, 140, 174,  95, 120,  24,  22, 163, 111,  25,  18,\n        16,  59,  39,  88, 141,   6,  57,  78, 158,  57, 176,   3,  25,\n       110, 150, 157,  29,  31, 195, 155, 131,  13,  71,  16, 133,  13,\n        11,  41,  76,  54,  77,  15,  35,  86,  31,  35, 197,  10,  19,\n        38,  16,  42,  76,  78, 120, 123,  32,  51,  11,  79,  84,  32,\n        24,  86, 189,  17,  22,  10, 172, 164, 204, 102,  97, 207, 104,\n       119, 124,  46,  45,  10, 132,  26,  73, 145, 126, 157,  25,  18,\n       177,  64, 104,  30, 170, 172,  74,  51,  11, 203,  97,  15,   7,\n        56,  31, 130,  23,  18,  27,  27,  14,   1, 131, 181, 191, 123,\n       155,  36,  14, 130,  13,  16, 158,  27, 179, 143,  19,  66,  26,\n       124, 175, 109,  38,  24,   8,  23, 161,  17,  28,  20, 105, 170,\n       122, 128,  82,   8, 201,  41, 183, 145, 195,  73,  92,  74,  38,\n       161,  19,  67, 168,  31,  25, 106, 165,  68, 206, 109, 146,  26,\n       173,   1,   5,  19,  82, 178,  32,  34, 147, 179,  25,  79, 111,\n        11,  18, 145,  24, 182,  22,  29,  29,   5,  38, 177, 205,  82,\n       121,  84, 137,  55,  36,   5,  64, 115, 150,  18,  84,  38, 131,\n        36,  74, 149, 144,  33, 192, 191, 161, 133,  89,  30,  45,  18,\n        23, 114, 207,  44,  10,  20, 159,  65,  25, 110, 189, 166,   9,\n        71, 173,  58, 204, 158, 140,  12,  22, 182,  38,  33, 205,   5,\n        83,  24,  16,   3,  44,  75, 202, 106, 201,  14, 201,  27,  30,\n       154,  17, 134,  82,  17,  11,  13, 175, 181,  18,  30,  47,  20,\n        30, 105,  33,  19,  19,  43, 106,   7,  94,  14,  27,  24, 187,\n        25,  66, 121, 191,  37, 116,   7,  55,   6,  60,  12,  11, 207,\n       113,  73, 112,   1,   8,  45,  56,  11,  79,  92, 109,  95, 104,\n        20, 168,  28,  20,  23,  16, 132, 198,  22,  39,  15, 108,  33,\n        36,  22,  80,  29,  31,  53,  27,  35,  15, 119,  87, 186])"
     },
     "metadata": {}
    }
   ]
  },
  {
   "cell_type": "code",
   "metadata": {
    "cell_id": "fc082ac1e3fc49f5aa6dffb10d839e58",
    "tags": [],
    "deepnote_cell_type": "code",
    "deepnote_cell_height": 66
   },
   "source": "",
   "execution_count": null,
   "outputs": []
  },
  {
   "cell_type": "markdown",
   "source": "<a style='text-decoration:none;line-height:16px;display:flex;color:#5B5B62;padding:10px;justify-content:end;' href='https://deepnote.com?utm_source=created-in-deepnote-cell&projectId=49b2f27e-3adc-4149-b31f-ff16a80fd77c' target=\"_blank\">\n<img alt='Created in deepnote.com' style='display:inline;max-height:16px;margin:0px;margin-right:7.5px;' src='data:image/svg+xml;base64,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' > </img>\nCreated in <span style='font-weight:600;margin-left:4px;'>Deepnote</span></a>",
   "metadata": {
    "tags": [],
    "created_in_deepnote_cell": true,
    "deepnote_cell_type": "markdown"
   }
  }
 ],
 "nbformat": 4,
 "nbformat_minor": 2,
 "metadata": {
  "orig_nbformat": 2,
  "deepnote": {},
  "deepnote_notebook_id": "6c64bee4-d9f9-4819-bea5-4040558e58f3",
  "deepnote_execution_queue": []
 }
}