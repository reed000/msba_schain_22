{
 "cells": [
  {
   "cell_type": "code",
   "source": "import heapq as MinHeap\n#https://docs.python.org/3/library/heapq.html#priority-queue-implementation-notes",
   "metadata": {
    "cell_id": "a1ae20407ce749db8250cb89680b8717",
    "tags": [],
    "deepnote_to_be_reexecuted": false,
    "source_hash": "3288158b",
    "execution_start": 1651463826424,
    "execution_millis": 0,
    "deepnote_cell_type": "code",
    "deepnote_cell_height": 98.33332824707031
   },
   "outputs": [],
   "execution_count": null
  },
  {
   "cell_type": "code",
   "metadata": {
    "tags": [],
    "cell_id": "a707fa1b-3891-49a7-a071-de667dbb6848",
    "deepnote_to_be_reexecuted": false,
    "source_hash": "bfbb9b8e",
    "execution_start": 1651463940710,
    "execution_millis": 2,
    "deepnote_cell_type": "code",
    "deepnote_cell_height": 134.3333282470703
   },
   "source": "h = []\nMinHeap.heappush(h, (5.3, 'write code'))\nMinHeap.heappush(h, (7, 'release product'))\n",
   "outputs": [],
   "execution_count": null
  },
  {
   "cell_type": "code",
   "source": "len(h)",
   "metadata": {
    "cell_id": "a2fb3cb21e2f4b338301fa22404ae6f3",
    "tags": [],
    "deepnote_to_be_reexecuted": false,
    "source_hash": "2b790e4f",
    "execution_start": 1651463941746,
    "execution_millis": 6,
    "deepnote_cell_type": "code",
    "deepnote_cell_height": 117,
    "deepnote_output_heights": [
     21
    ]
   },
   "outputs": [
    {
     "output_type": "execute_result",
     "execution_count": 26,
     "data": {
      "text/plain": "2"
     },
     "metadata": {}
    }
   ],
   "execution_count": null
  },
  {
   "cell_type": "code",
   "source": "h",
   "metadata": {
    "cell_id": "799391b3e5724fc4adb88fe130438c36",
    "tags": [],
    "deepnote_to_be_reexecuted": false,
    "source_hash": "656507f7",
    "execution_start": 1651463942441,
    "execution_millis": 8,
    "deepnote_cell_type": "code",
    "deepnote_cell_height": 117,
    "deepnote_output_heights": [
     21
    ]
   },
   "outputs": [
    {
     "output_type": "execute_result",
     "execution_count": 27,
     "data": {
      "text/plain": "[(5.3, 'write code'), (7, 'release product')]"
     },
     "metadata": {}
    }
   ],
   "execution_count": null
  },
  {
   "cell_type": "code",
   "source": "h",
   "metadata": {
    "cell_id": "8a1ebd7f119d45fba81f78a37563a3ef",
    "tags": [],
    "deepnote_to_be_reexecuted": false,
    "source_hash": "656507f7",
    "execution_start": 1651463943431,
    "execution_millis": 7,
    "deepnote_cell_type": "code",
    "deepnote_cell_height": 117,
    "deepnote_output_heights": [
     21
    ]
   },
   "outputs": [
    {
     "output_type": "execute_result",
     "execution_count": 28,
     "data": {
      "text/plain": "[(5.3, 'write code'), (7, 'release product')]"
     },
     "metadata": {}
    }
   ],
   "execution_count": null
  },
  {
   "cell_type": "code",
   "source": "MinHeap.heappush(h, (1, 'write spec'))\nMinHeap.heappush(h, (5.4, 'create tests'))\n# heappop(h)",
   "metadata": {
    "cell_id": "1fc1815fdec94d75a3cbf41845aac1fa",
    "tags": [],
    "deepnote_to_be_reexecuted": false,
    "source_hash": "b872c314",
    "execution_start": 1651463953581,
    "execution_millis": 3,
    "deepnote_cell_type": "code",
    "deepnote_cell_height": 116.33332824707031
   },
   "outputs": [],
   "execution_count": null
  },
  {
   "cell_type": "code",
   "source": "h",
   "metadata": {
    "cell_id": "6bd45fdcce9f4dcb9b0c35042d76cb23",
    "tags": [],
    "deepnote_to_be_reexecuted": false,
    "source_hash": "656507f7",
    "execution_start": 1651463954376,
    "execution_millis": 585,
    "deepnote_cell_type": "code",
    "deepnote_cell_height": 213,
    "deepnote_output_heights": [
     117
    ]
   },
   "outputs": [
    {
     "output_type": "execute_result",
     "execution_count": 32,
     "data": {
      "text/plain": "[(1, 'write spec'),\n (1, 'write spec'),\n (5.3, 'write code'),\n (7, 'release product'),\n (3, 'create tests'),\n (5.4, 'create tests')]"
     },
     "metadata": {}
    }
   ],
   "execution_count": null
  },
  {
   "cell_type": "code",
   "source": "MinHeap.heappop(h)",
   "metadata": {
    "cell_id": "d36e157c962743678cb46cb1c35ee593",
    "tags": [],
    "deepnote_to_be_reexecuted": false,
    "source_hash": "e3d49310",
    "execution_start": 1651463980399,
    "execution_millis": 7,
    "deepnote_cell_type": "code",
    "deepnote_cell_height": 117,
    "deepnote_output_heights": [
     21
    ]
   },
   "outputs": [
    {
     "output_type": "execute_result",
     "execution_count": 39,
     "data": {
      "text/plain": "(7, 'release product')"
     },
     "metadata": {}
    }
   ],
   "execution_count": null
  },
  {
   "cell_type": "code",
   "source": "h",
   "metadata": {
    "cell_id": "f6f68363c9194ebfa47074a5515b3263",
    "tags": [],
    "deepnote_to_be_reexecuted": false,
    "source_hash": "656507f7",
    "execution_start": 1651447709229,
    "execution_millis": 531,
    "owner_user_id": "b171af2b-2b80-4f02-9ceb-a14d5a27538b",
    "deepnote_cell_type": "code",
    "deepnote_cell_height": 117,
    "deepnote_output_heights": [
     21
    ]
   },
   "outputs": [
    {
     "output_type": "execute_result",
     "execution_count": 7,
     "data": {
      "text/plain": "[(3, 'create tests'), (7, 'release product'), (5, 'write code')]"
     },
     "metadata": {}
    }
   ],
   "execution_count": null
  },
  {
   "cell_type": "code",
   "source": "MinHeap.heappop(h)",
   "metadata": {
    "cell_id": "3cdc9da4999c49189979bb23b7361881",
    "tags": [],
    "deepnote_to_be_reexecuted": false,
    "source_hash": "e3d49310",
    "execution_start": 1651447709230,
    "execution_millis": 35798,
    "deepnote_cell_type": "code",
    "deepnote_cell_height": 117,
    "deepnote_output_heights": [
     21
    ]
   },
   "outputs": [
    {
     "output_type": "execute_result",
     "execution_count": 8,
     "data": {
      "text/plain": "(3, 'create tests')"
     },
     "metadata": {}
    }
   ],
   "execution_count": null
  },
  {
   "cell_type": "code",
   "source": "",
   "metadata": {
    "cell_id": "34346137e1c04898a4de0fc187e5e57d",
    "tags": [],
    "deepnote_to_be_reexecuted": false,
    "source_hash": "b623e53d",
    "execution_start": 1651447709231,
    "execution_millis": 530,
    "deepnote_cell_type": "code",
    "deepnote_cell_height": 80.33332824707031
   },
   "outputs": [],
   "execution_count": null
  },
  {
   "cell_type": "markdown",
   "source": "<a style='text-decoration:none;line-height:16px;display:flex;color:#5B5B62;padding:10px;justify-content:end;' href='https://deepnote.com?utm_source=created-in-deepnote-cell&projectId=49b2f27e-3adc-4149-b31f-ff16a80fd77c' target=\"_blank\">\n<img alt='Created in deepnote.com' style='display:inline;max-height:16px;margin:0px;margin-right:7.5px;' src='data:image/svg+xml;base64,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' > </img>\nCreated in <span style='font-weight:600;margin-left:4px;'>Deepnote</span></a>",
   "metadata": {
    "tags": [],
    "created_in_deepnote_cell": true,
    "deepnote_cell_type": "markdown"
   }
  }
 ],
 "nbformat": 4,
 "nbformat_minor": 2,
 "metadata": {
  "orig_nbformat": 2,
  "deepnote": {},
  "deepnote_notebook_id": "11a42880-d6b2-4d0a-922f-bd1e474f4249",
  "deepnote_execution_queue": []
 }
}