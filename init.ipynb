{
 "cells": [
  {
   "cell_type": "markdown",
   "source": "## Initialization Notebook\nThis is your initialization notebook.\n\n**What's this for?**\n\nYou can put custom code you want us to run every time we setup your environment in here. \n\n**Awesome! Anything I should not put in here?**\n\nPlease don't install `jupyter` or `jedi` packages, they would break your Deepnote environment. Also, no need to put `!pip install`s here, we already save those automatically!\n\n**I want to learn more!**\n\nGreat! Just [head over to our docs](https://docs.deepnote.com/environment/custom-initialization).",
   "metadata": {
    "tags": [],
    "cell_id": "8fff90ed-b7d2-47ff-b0cd-86575b2f83c5",
    "deepnote_cell_type": "markdown"
   }
  },
  {
   "cell_type": "code",
   "metadata": {
    "tags": [],
    "cell_id": "00001-a39673d3-9191-41c2-8f4a-85bb11e4ef00",
    "deepnote_to_be_reexecuted": false,
    "source_hash": "60b37886",
    "execution_start": 1651800532974,
    "execution_millis": 9228,
    "deepnote_cell_type": "code"
   },
   "source": "%%bash\n# If your project has a 'requirements.txt' file, we'll install it here apart from blacklisted packages that interfere with Deepnote (see above).\nif test -f requirements.txt\n  then\n    sed -i '/jedi/d;/jupyter/d;' ./requirements.txt\n    pip install -r ./requirements.txt\n  else echo \"There's no requirements.txt, so nothing to install. This is the case with most projects.\"\nfi",
   "execution_count": 1,
   "outputs": [
    {
     "name": "stdout",
     "text": "Requirement already satisfied: pandas in /shared-libs/python3.7/py/lib/python3.7/site-packages (from -r ./requirements.txt (line 1)) (1.2.5)\nRequirement already satisfied: numpy in /shared-libs/python3.7/py/lib/python3.7/site-packages (from -r ./requirements.txt (line 2)) (1.21.6)\nRequirement already satisfied: scipy in /shared-libs/python3.7/py/lib/python3.7/site-packages (from -r ./requirements.txt (line 3)) (1.7.3)\nRequirement already satisfied: tqdm in /shared-libs/python3.7/py/lib/python3.7/site-packages (from -r ./requirements.txt (line 4)) (4.64.0)\nCollecting fitter\n  Downloading fitter-1.4.0.tar.gz (27 kB)\nRequirement already satisfied: matplotlib in /shared-libs/python3.7/py/lib/python3.7/site-packages (from -r ./requirements.txt (line 6)) (3.5.1)\nRequirement already satisfied: seaborn in /shared-libs/python3.7/py/lib/python3.7/site-packages (from -r ./requirements.txt (line 7)) (0.11.2)\nRequirement already satisfied: python-dateutil>=2.7.3 in /shared-libs/python3.7/py-core/lib/python3.7/site-packages (from pandas->-r ./requirements.txt (line 1)) (2.8.2)\nRequirement already satisfied: pytz>=2017.3 in /shared-libs/python3.7/py/lib/python3.7/site-packages (from pandas->-r ./requirements.txt (line 1)) (2022.1)\nCollecting easydev\n  Downloading easydev-0.12.0.tar.gz (47 kB)\nRequirement already satisfied: click in /shared-libs/python3.7/py/lib/python3.7/site-packages (from fitter->-r ./requirements.txt (line 5)) (8.0.4)\nRequirement already satisfied: joblib in /shared-libs/python3.7/py/lib/python3.7/site-packages (from fitter->-r ./requirements.txt (line 5)) (1.1.0)\nRequirement already satisfied: packaging>=20.0 in /shared-libs/python3.7/py/lib/python3.7/site-packages (from matplotlib->-r ./requirements.txt (line 6)) (21.3)\nRequirement already satisfied: cycler>=0.10 in /shared-libs/python3.7/py/lib/python3.7/site-packages (from matplotlib->-r ./requirements.txt (line 6)) (0.11.0)\nRequirement already satisfied: kiwisolver>=1.0.1 in /shared-libs/python3.7/py/lib/python3.7/site-packages (from matplotlib->-r ./requirements.txt (line 6)) (1.4.2)\nRequirement already satisfied: pyparsing>=2.2.1 in /shared-libs/python3.7/py/lib/python3.7/site-packages (from matplotlib->-r ./requirements.txt (line 6)) (3.0.8)\nRequirement already satisfied: fonttools>=4.22.0 in /shared-libs/python3.7/py/lib/python3.7/site-packages (from matplotlib->-r ./requirements.txt (line 6)) (4.33.3)\nRequirement already satisfied: pillow>=6.2.0 in /shared-libs/python3.7/py/lib/python3.7/site-packages (from matplotlib->-r ./requirements.txt (line 6)) (9.1.0)\nRequirement already satisfied: six>=1.5 in /shared-libs/python3.7/py-core/lib/python3.7/site-packages (from python-dateutil>=2.7.3->pandas->-r ./requirements.txt (line 1)) (1.16.0)\nCollecting colorama\n  Downloading colorama-0.4.4-py2.py3-none-any.whl (16 kB)\nRequirement already satisfied: pexpect in /shared-libs/python3.7/py-core/lib/python3.7/site-packages (from easydev->fitter->-r ./requirements.txt (line 5)) (4.8.0)\nCollecting colorlog\n  Downloading colorlog-6.6.0-py2.py3-none-any.whl (11 kB)\nRequirement already satisfied: importlib-metadata; python_version < \"3.8\" in /shared-libs/python3.7/py-core/lib/python3.7/site-packages (from click->fitter->-r ./requirements.txt (line 5)) (4.11.3)\nRequirement already satisfied: typing-extensions; python_version < \"3.8\" in /shared-libs/python3.7/py-core/lib/python3.7/site-packages (from kiwisolver>=1.0.1->matplotlib->-r ./requirements.txt (line 6)) (4.2.0)\nRequirement already satisfied: ptyprocess>=0.5 in /shared-libs/python3.7/py-core/lib/python3.7/site-packages (from pexpect->easydev->fitter->-r ./requirements.txt (line 5)) (0.7.0)\nRequirement already satisfied: zipp>=0.5 in /shared-libs/python3.7/py-core/lib/python3.7/site-packages (from importlib-metadata; python_version < \"3.8\"->click->fitter->-r ./requirements.txt (line 5)) (3.8.0)\nBuilding wheels for collected packages: fitter, easydev\n  Building wheel for fitter (setup.py): started\n  Building wheel for fitter (setup.py): finished with status 'done'\n  Created wheel for fitter: filename=fitter-1.4.0-py3-none-any.whl size=25003 sha256=9156b067fb29669e7069558e1ba54bd95f34ca0099450d52ed48af3537539609\n  Stored in directory: /root/.cache/pip/wheels/e1/98/16/e5263962f94fbfaad79902aa94652516caccc1f1d51509e853\n  Building wheel for easydev (setup.py): started\n  Building wheel for easydev (setup.py): finished with status 'done'\n  Created wheel for easydev: filename=easydev-0.12.0-py3-none-any.whl size=64217 sha256=fc46b06e3989c71fb4cb11ad6e7860752785912a3c5a93f7b2f25f4bf958bfdf\n  Stored in directory: /root/.cache/pip/wheels/82/ab/83/fdfc4017ea44a585b6754752cc5f63f2d0d63fcc1317e7174b\nSuccessfully built fitter easydev\nInstalling collected packages: colorama, colorlog, easydev, fitter\nSuccessfully installed colorama-0.4.4 colorlog-6.6.0 easydev-0.12.0 fitter-1.4.0\nWARNING: You are using pip version 20.1.1; however, version 22.0.4 is available.\nYou should consider upgrading via the '/root/venv/bin/python -m pip install --upgrade pip' command.\n",
     "output_type": "stream"
    }
   ]
  },
  {
   "cell_type": "markdown",
   "source": "<a style='text-decoration:none;line-height:16px;display:flex;color:#5B5B62;padding:10px;justify-content:end;' href='https://deepnote.com?utm_source=created-in-deepnote-cell&projectId=49b2f27e-3adc-4149-b31f-ff16a80fd77c' target=\"_blank\">\n<img alt='Created in deepnote.com' style='display:inline;max-height:16px;margin:0px;margin-right:7.5px;' src='data:image/svg+xml;base64,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' > </img>\nCreated in <span style='font-weight:600;margin-left:4px;'>Deepnote</span></a>",
   "metadata": {
    "tags": [],
    "created_in_deepnote_cell": true,
    "deepnote_cell_type": "markdown"
   }
  }
 ],
 "nbformat": 4,
 "nbformat_minor": 2,
 "metadata": {
  "orig_nbformat": 2,
  "deepnote": {
   "is_reactive": false
  },
  "deepnote_notebook_id": "7ea7b342-d548-447e-8698-8ac71faecb38",
  "deepnote_execution_queue": []
 }
}