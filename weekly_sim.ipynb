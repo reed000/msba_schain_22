{
 "cells": [
  {
   "cell_type": "code",
   "metadata": {
    "tags": [],
    "cell_id": "60576652-b6e1-42a8-b3f2-8bf998d339af",
    "deepnote_to_be_reexecuted": false,
    "source_hash": "70376d2d",
    "execution_start": 1651719186553,
    "execution_millis": 646,
    "deepnote_cell_type": "code",
    "deepnote_cell_height": 243
   },
   "source": "import pandas as pd\nimport numpy as np\nfrom kernel_wHeap import Kernel\nimport constants as cs\n\nfrom bizprocs.facilities.pooling import Pooling\nfrom bizprocs.facilities.storing import Storage\nfrom bizprocs.facilities.picking import Picking\nfrom bizprocs.facilities.packing import Packing\nfrom bizprocs.facilities.ordering import Orders",
   "outputs": [],
   "execution_count": null
  },
  {
   "cell_type": "code",
   "metadata": {
    "cell_id": "afebad311e8f4cdf953dc9e9edb7e869",
    "tags": [],
    "deepnote_to_be_reexecuted": false,
    "source_hash": "c0e12c7a",
    "execution_start": 1651729062836,
    "execution_millis": 1,
    "deepnote_cell_type": "code",
    "deepnote_cell_height": 81
   },
   "source": "SET_RUNTIME = 3600*24*15",
   "outputs": [],
   "execution_count": null
  },
  {
   "cell_type": "code",
   "metadata": {
    "cell_id": "76e85db74e6242869e2e79e4406b12e6",
    "tags": [],
    "deepnote_to_be_reexecuted": false,
    "source_hash": "7d9e8a16",
    "execution_start": 1651729138769,
    "execution_millis": 22922,
    "owner_user_id": "7f458574-e58a-4e9c-ae79-ee4f5b78c130",
    "deepnote_cell_type": "code",
    "deepnote_cell_height": 1928
   },
   "source": "processes = {\n    'parking' : Pooling(),\n    'stowage' : Storage(),\n    'picking' : Picking(),\n    'packing' : Packing(),\n    'orders'  : Orders()\n}\n\nevent_dictionary = {\n    'DeliveryIn' : ('parking','DeliveryIn'),\n    'AddInventory'   : ('parking', 'AddInventory'),\n    'OrderUp': ('orders', 'OrderUp'),\n    'ShiftChangeStorage' : ('stowage', 'ShiftChangeStorage'),\n    'PokeWorkersStorage' : ('stowage', 'PokeWorkersStorage'),\n    'ShiftChangePicking' : ('picking', 'ShiftChangePicking'),\n    'PokeWorkersPicking' : ('picking', 'PokeWorkersPicking'),\n    'ShiftChangePacking' : ('packing', 'ShiftChangePacking'),\n    'PokeWorkersPacking' : ('packing', 'PokeWorkersPacking')\n    # Order Out\n    }\n\n# SHIFTS every day 3 slots # workers per slot = [12-8, 8-4, 4-12]\n\n# find 100 order of workers\n# loop 80 - 120 workers for each of the 21 time slots per worker\nstowing_shift = {\n    \"SUN\": [0, 0, 0],\n    \"MON\": [15, 20, 20],\n    \"TUE\": [8, 8, 8],\n    \"WED\": [1, 1, 1],\n    \"THU\": [0, 0, 0],\n    \"FRI\": [0, 0, 0],\n    \"SAT\": [0, 0, 0]\n}\npicking_shift = {\n    \"SUN\": [20, 25, 25],\n    \"MON\": [20, 25, 25],\n    \"TUE\": [20, 25, 25],\n    \"WED\": [20, 25, 25],\n    \"THU\": [20, 25, 25],\n    \"FRI\": [20, 25, 25],\n    \"SAT\": [20, 25, 25]\n}\npacking_shift = {   # Each shift should ~= N PACKING_STATIONS\n    \"SUN\": [5, 5, 5],\n    \"MON\": [5, 5, 5],\n    \"TUE\": [5, 5, 5],\n    \"WED\": [5, 5, 5],\n    \"THU\": [5, 5, 5],\n    \"FRI\": [5, 5, 5],\n    \"SAT\": [5, 5, 5]\n}\noptions_dict = {\n    # Optimize Variables\n        'DELIVERY_SCHEDULE'    : 'WEEKLY',      #['DAILY', 'WEEKLY'] _TEST_\n        'STORAGE_MECHANIC'     : 'DESIGNATED', #['DESIGNATED', 'RANDOM']\n        'STORAGE_WORKERS'      :  stowing_shift, #towing_shift\n        'PICKING_MECHANIC'     : 'DESIGNATED', #['DESIGNATED', 'RANDOM']\n        'PICKING_WORKERS'      :  picking_shift,          # picking_shift\n        'PACKING_WORKERS'      :  packing_shift,          # packing_shift\n        'PACKING_STATIONS'     :  5,          # N\n    # Debug Variables\n        'KENNY_LOGGINS'        :  False,        # [True, False*]\n        'SAVE_DATA'            :  True,         # [True*, False]\n        'SAVE_ORDERS'          :  False,        # [True*, False]\n        'FINAL_ECHO'           :  True,         # [True*, False]\n        'ORDER_TEST'           :  False,        # [True, False*]\n        'ORDER_FILE'           : 'strategies/final-project-2022m4_orders.csv' ## moreeee compute :(\n        # 'ORDER_FILE'           : 'strategies/order_sample.csv' \n\n}\n\nprint(\"Runtime: \", SET_RUNTIME)\nprint(\"Delivery Option: \", options_dict['DELIVERY_SCHEDULE'])\nprint(\"Storage: \", options_dict['STORAGE_MECHANIC'])\n\nsimulation_loop = Kernel(procs=processes,\n                        runtime=SET_RUNTIME,\n                        event_dictionary=event_dictionary,\n                        options=options_dict)\n\nsim_results = simulation_loop.mainLoop()\n",
   "outputs": [
    {
     "name": "stdout",
     "text": "Runtime:  1296000\nDelivery Option:  WEEKLY\nStorage:  DESIGNATED\n 28%|##7       | 723655.5999999937/2592000 [1:00:54<2:37:15, 198.01it/s]\n1296019.5999999947it [00:10, 121631.00it/s]                             \n                   Revenue  :  570396\n        (Delivery Expense)  :  150000\n      {Lost Sales Penalty)  :  1142562\n           (Labor Expense)  :  241114\n   (Facilities Fixed Cost)  :  5000000\n (Packing Station Expense)  :  250000\n  (Inventory Holding Cost)  :  0\n------------TOTAL PROFIT =  :  -6213280\n--------------------------  :  --------------------------\n    Total Parking Weight =  :  0.00 %\n-----Utilization Storage =  :  31.98 %\n-----Utilization Picking =  :  33.56 %\n-----Utilization Packing =  :  12.56 %\n",
     "output_type": "stream"
    }
   ],
   "execution_count": null
  },
  {
   "cell_type": "code",
   "metadata": {
    "cell_id": "5000141fe9374880aaeb02f77e3d44fe",
    "tags": [],
    "deepnote_cell_type": "code",
    "deepnote_cell_height": 354
   },
   "source": "Runtime:  2592000\nDelivery Option:  WEEKLY\nStorage:  DESIGNATED\n2592061.9000001657it [00:34, 74070.81it/s]                             \n                   Revenue  :  2273488\n        (Delivery Expense)  :  50000\n      {Lost Sales Penalty)  :  1747394\n           (Labor Expense)  :  1437792\n   (Facilities Fixed Cost)  :  5000000\n (Packing Station Expense)  :  250000\n  (Inventory Holding Cost)  :  0\n------------TOTAL PROFIT =  :  -6211698\n--------------------------  :  --------------------------\n    Total Parking Weight =  :  0.00 %\n-----Utilization Storage =  :  65.31 %\n-----Utilization Picking =  :  17.23 %\n-----Utilization Packing =  :  23.82 %",
   "execution_count": null,
   "outputs": []
  },
  {
   "cell_type": "markdown",
   "source": "<a style='text-decoration:none;line-height:16px;display:flex;color:#5B5B62;padding:10px;justify-content:end;' href='https://deepnote.com?utm_source=created-in-deepnote-cell&projectId=49b2f27e-3adc-4149-b31f-ff16a80fd77c' target=\"_blank\">\n<img alt='Created in deepnote.com' style='display:inline;max-height:16px;margin:0px;margin-right:7.5px;' src='data:image/svg+xml;base64,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' > </img>\nCreated in <span style='font-weight:600;margin-left:4px;'>Deepnote</span></a>",
   "metadata": {
    "tags": [],
    "created_in_deepnote_cell": true,
    "deepnote_cell_type": "markdown"
   }
  }
 ],
 "nbformat": 4,
 "nbformat_minor": 2,
 "metadata": {
  "orig_nbformat": 2,
  "deepnote": {},
  "deepnote_notebook_id": "84e14c65-abf7-45cc-8f65-c0e08f42c6a1",
  "deepnote_execution_queue": []
 }
}